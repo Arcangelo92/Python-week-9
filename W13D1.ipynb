{
 "cells": [
  {
   "cell_type": "code",
   "execution_count": 19,
   "id": "0507c44e-d862-48fd-acf6-c2a2e1fa2200",
   "metadata": {},
   "outputs": [],
   "source": [
    "#Abbiamo 25 studenti; memorizzare questo dato in una variabile. \n",
    "studenti = 25"
   ]
  },
  {
   "cell_type": "code",
   "execution_count": 20,
   "id": "b60123d4-4dc4-4dd0-9516-9f06cc12bbb2",
   "metadata": {},
   "outputs": [
    {
     "name": "stdout",
     "output_type": "stream",
     "text": [
      "25\n"
     ]
    }
   ],
   "source": [
    "print (studenti)"
   ]
  },
  {
   "cell_type": "code",
   "execution_count": 22,
   "id": "66f028b5-fb9c-484e-a1be-03f915fa51d1",
   "metadata": {},
   "outputs": [
    {
     "name": "stdout",
     "output_type": "stream",
     "text": [
      "3\n"
     ]
    }
   ],
   "source": [
    "#Abbiamo 25 studenti; memorizzare questo dato in una variabile. Arrivano altri 3 studenti; memorizzare questo dato in un'altra variabile.\n",
    "Nuovi_studenti = 3\n",
    "print (Nuovi_studenti)"
   ]
  },
  {
   "cell_type": "code",
   "execution_count": 23,
   "id": "d40cd369-5811-4533-86a8-b87749321a5f",
   "metadata": {},
   "outputs": [
    {
     "name": "stdout",
     "output_type": "stream",
     "text": [
      "28\n"
     ]
    }
   ],
   "source": [
    "#Creare un'altra variabile ancora che conterrà la somma delle prime due, poi stamparla a video.\n",
    "Totale_studenti = studenti + Nuovi_studenti\n",
    "print (Totale_studenti)\n"
   ]
  },
  {
   "cell_type": "code",
   "execution_count": 24,
   "id": "1ad587fa-500d-49e9-8106-16f1b2cf6887",
   "metadata": {},
   "outputs": [],
   "source": [
    "#Creare una variabile che contiene la stringa \"Epicode\", quindi stamparla a video.\n",
    "Corso = 'Epicode'"
   ]
  },
  {
   "cell_type": "code",
   "execution_count": 28,
   "id": "bf5c0c72-a46a-43f5-96eb-183b88002d36",
   "metadata": {},
   "outputs": [],
   "source": [
    "#Abbiamo la variabile: x = 10 Incrementarla di 2 e poi moltiplicarla per 3 Usare due metodi diversi (ad esempio, uno utilizzando gli operatori di assegnazione, e uno senza)\n",
    "x = 10\n",
    "x += 2\n",
    "x = x*3"
   ]
  },
  {
   "cell_type": "code",
   "execution_count": 29,
   "id": "305e7818-0cab-4ba9-a3d1-a180945eeef5",
   "metadata": {},
   "outputs": [
    {
     "name": "stdout",
     "output_type": "stream",
     "text": [
      "36\n"
     ]
    }
   ],
   "source": [
    "print (x)"
   ]
  },
  {
   "cell_type": "code",
   "execution_count": 32,
   "id": "6431cfa6-f064-4219-bc51-2cb333ae46fb",
   "metadata": {},
   "outputs": [],
   "source": [
    "#Verificare, per ognuna delle seguenti stringhe, se il numero di caratteri è compreso tra 5 e 8: • str1 = \"Windows\" • str2 = \"Excel\" • str3 = \"Powerpoint\" • str4 = \"Word\"\n",
    "str1 = \"Windows\"\n",
    "str2 = \"Excel\"\n",
    "str3 = \"Powerpoint\"\n",
    "str4 = \"Word\""
   ]
  },
  {
   "cell_type": "code",
   "execution_count": 33,
   "id": "e352f05e-9e92-4687-a076-902995173f6e",
   "metadata": {},
   "outputs": [
    {
     "data": {
      "text/plain": [
       "7"
      ]
     },
     "execution_count": 33,
     "metadata": {},
     "output_type": "execute_result"
    }
   ],
   "source": [
    "len (str1)"
   ]
  },
  {
   "cell_type": "code",
   "execution_count": 34,
   "id": "bab94315-76f6-40d8-b600-8f05f82d0cdb",
   "metadata": {},
   "outputs": [
    {
     "data": {
      "text/plain": [
       "5"
      ]
     },
     "execution_count": 34,
     "metadata": {},
     "output_type": "execute_result"
    }
   ],
   "source": [
    "len (str2)"
   ]
  },
  {
   "cell_type": "code",
   "execution_count": 35,
   "id": "95a3c2b9-1590-49e4-ad53-d94526c7f58b",
   "metadata": {},
   "outputs": [
    {
     "data": {
      "text/plain": [
       "10"
      ]
     },
     "execution_count": 35,
     "metadata": {},
     "output_type": "execute_result"
    }
   ],
   "source": [
    "len (str3)"
   ]
  },
  {
   "cell_type": "code",
   "execution_count": 36,
   "id": "9f49692e-347f-467d-b224-e79a01c05e15",
   "metadata": {},
   "outputs": [
    {
     "data": {
      "text/plain": [
       "4"
      ]
     },
     "execution_count": 36,
     "metadata": {},
     "output_type": "execute_result"
    }
   ],
   "source": [
    "len (str4)"
   ]
  },
  {
   "cell_type": "code",
   "execution_count": 43,
   "id": "fdae38ea-5182-4154-8715-5e2691eebea8",
   "metadata": {},
   "outputs": [
    {
     "name": "stdout",
     "output_type": "stream",
     "text": [
      "in un anno bisestile ci sono -> 31536000 sec\n"
     ]
    }
   ],
   "source": [
    "#Calcolare e stampare a video quanti secondi ci sono in un anno non bisestile.\n",
    "giorni_in_un_anno = 365\n",
    "ore_in_un_giorno = 24\n",
    "minuti_in_un_ora = 60\n",
    "secondi_in_un_minuto = 60\n",
    "secondi_in_un_anno = giorni_in_un_anno * ore_in_un_giorno * minuti_in_un_ora * secondi_in_un_minuto\n",
    "print ('in un anno bisestile ci sono', '->', secondi_in_un_anno, 'sec')"
   ]
  },
  {
   "cell_type": "code",
   "execution_count": 38,
   "id": "9afe7898-5c22-4dbd-96d2-6a5af327d940",
   "metadata": {},
   "outputs": [
    {
     "data": {
      "text/plain": [
       "'I AM STUDYING PYTHON'"
      ]
     },
     "execution_count": 38,
     "metadata": {},
     "output_type": "execute_result"
    }
   ],
   "source": [
    "#Abbiamo la seguente stringa: my_string = \"I am studying Python\" • Trasformarla in modo che tutti i caratteri siano maiuscoli (uppercase) • Trasformarla in modo che tutti i caratteri siano minuscoli (lowercase) • Sostituire la sottostringa \"Python\" con la stringa \"a lot\" • Usare il metodo .strip(); cambia qualcosa? Perché?\n",
    "my_string = \"I am studying Python\"\n",
    "my_string.upper ()"
   ]
  },
  {
   "cell_type": "code",
   "execution_count": 39,
   "id": "2aba794c-8e13-4835-8ce3-7c7f780bb417",
   "metadata": {},
   "outputs": [
    {
     "data": {
      "text/plain": [
       "'i am studying python'"
      ]
     },
     "execution_count": 39,
     "metadata": {},
     "output_type": "execute_result"
    }
   ],
   "source": [
    "my_string.lower()"
   ]
  },
  {
   "cell_type": "code",
   "execution_count": 40,
   "id": "d734870b-f44e-48f4-a2a2-401752f095ba",
   "metadata": {},
   "outputs": [
    {
     "data": {
      "text/plain": [
       "'I am studying a lot'"
      ]
     },
     "execution_count": 40,
     "metadata": {},
     "output_type": "execute_result"
    }
   ],
   "source": [
    "my_string.replace('Python', 'a lot')"
   ]
  },
  {
   "cell_type": "code",
   "execution_count": 41,
   "id": "12a517c9-8e08-4b6a-9bec-2b8073b51316",
   "metadata": {},
   "outputs": [
    {
     "data": {
      "text/plain": [
       "'I am studying Python'"
      ]
     },
     "execution_count": 41,
     "metadata": {},
     "output_type": "execute_result"
    }
   ],
   "source": [
    "my_string.strip()"
   ]
  },
  {
   "cell_type": "code",
   "execution_count": null,
   "id": "c9d76cce-e877-4b48-ac19-49bd41acbd13",
   "metadata": {},
   "outputs": [],
   "source": [
    "#Non succede nulla perchè non ci sono spazi vuoti all'inizio o alla fine."
   ]
  },
  {
   "cell_type": "code",
   "execution_count": null,
   "id": "582f3651-2c0a-48bb-8e83-5aa8de0987e5",
   "metadata": {},
   "outputs": [],
   "source": []
  }
 ],
 "metadata": {
  "kernelspec": {
   "display_name": "Python 3 (ipykernel)",
   "language": "python",
   "name": "python3"
  },
  "language_info": {
   "codemirror_mode": {
    "name": "ipython",
    "version": 3
   },
   "file_extension": ".py",
   "mimetype": "text/x-python",
   "name": "python",
   "nbconvert_exporter": "python",
   "pygments_lexer": "ipython3",
   "version": "3.11.7"
  }
 },
 "nbformat": 4,
 "nbformat_minor": 5
}
