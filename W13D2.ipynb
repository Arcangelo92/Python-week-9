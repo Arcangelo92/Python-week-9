{
 "cells": [
  {
   "cell_type": "code",
   "execution_count": 2,
   "id": "7cff97c5-a31d-46aa-826a-6ad728760207",
   "metadata": {},
   "outputs": [],
   "source": [
    "lista_film = [\"Spider-Man\", \"Batman\", \"Hulk\", \"Superman\"]"
   ]
  },
  {
   "cell_type": "code",
   "execution_count": 4,
   "id": "d480a11f-747a-43bb-ac7d-bfa0d9472588",
   "metadata": {},
   "outputs": [
    {
     "data": {
      "text/plain": [
       "[]"
      ]
     },
     "execution_count": 4,
     "metadata": {},
     "output_type": "execute_result"
    }
   ],
   "source": [
    "lista_film [4:1]"
   ]
  },
  {
   "cell_type": "code",
   "execution_count": null,
   "id": "9291223a-7e0e-4ae7-b7d3-7e71756192b7",
   "metadata": {},
   "outputs": [],
   "source": [
    "#Stampare ogni carattere della stringa, uno su ogni riga, utilizzando un costrutto while.\n",
    "nome_scuola = \"Epicode\"\n",
    "indice = 0\n",
    "while indice < len(nome_scuola):\n",
    "    print(nome_scuola[indice])\n",
    "    indice += 1"
   ]
  },
  {
   "cell_type": "code",
   "execution_count": 27,
   "id": "be3e0814-b995-4b95-aa8d-a40da63327e1",
   "metadata": {},
   "outputs": [
    {
     "name": "stdout",
     "output_type": "stream",
     "text": [
      "-0-1-2-3-4-5-6-7-8-9-10-11-12-13-14-15-16-17-18-19-20"
     ]
    }
   ],
   "source": [
    "#Esercizio Stampare a video tutti i numeri da 0 a 20 utilizzando il costrutto while\n",
    "numeri = list(range(21))\n",
    "indice = 0\n",
    "while indice < 21:\n",
    "    print (f'-{numeri[indice]}', end = '')\n",
    "    indice += 1"
   ]
  },
  {
   "cell_type": "code",
   "execution_count": 29,
   "id": "70c3560d-8320-4981-8945-bc2711988a44",
   "metadata": {},
   "outputs": [
    {
     "name": "stdout",
     "output_type": "stream",
     "text": [
      "2^0 = 1\n",
      "2^1 = 2\n",
      "2^2 = 4\n",
      "2^3 = 8\n",
      "2^4 = 16\n",
      "2^5 = 32\n",
      "2^6 = 64\n",
      "2^7 = 128\n",
      "2^8 = 256\n",
      "2^9 = 512\n",
      "2^10 = 1024\n"
     ]
    }
   ],
   "source": [
    "#Calcolare e stampare tutte le prime 10 potenze di 2 (e.g., 2⁰, 2¹, 2², …) utilizzando un ciclo while.\n",
    "esponente = 0\n",
    "risultato = 1\n",
    "\n",
    "while esponente < 11:\n",
    "    print(f\"2^{esponente} = {risultato}\")\n",
    "    risultato *= 2\n",
    "    esponente += 1"
   ]
  },
  {
   "cell_type": "code",
   "execution_count": 34,
   "id": "622fe7dc-06d1-4d71-8950-b2fabb94b8f3",
   "metadata": {},
   "outputs": [
    {
     "name": "stdout",
     "output_type": "stream",
     "text": [
      "2^0 = 1\n",
      "2^1 = 2\n",
      "2^2 = 4\n",
      "2^3 = 8\n",
      "2^4 = 16\n",
      "2^5 = 32\n",
      "2^6 = 64\n",
      "2^7 = 128\n",
      "2^8 = 256\n",
      "2^9 = 512\n",
      "Elevazione a grande esponente\n"
     ]
    }
   ],
   "source": [
    "#Calcolare e stampare tutte le prime N potenze di 2 utilizzando un ciclo while, domandando all'utente di inserire N.\n",
    "esponente = 0\n",
    "risultato = 1\n",
    "\n",
    "while esponente <= 15:\n",
    "    if risultato > 1000:  \n",
    "        print(\"Elevazione a grande esponente\")\n",
    "        break  \n",
    "    print(f\"2^{esponente} = {risultato}\")\n",
    "    risultato *= 2\n",
    "    esponente += 1"
   ]
  },
  {
   "cell_type": "code",
   "execution_count": 35,
   "id": "8647802c-6922-4147-999f-bead37c08e80",
   "metadata": {},
   "outputs": [
    {
     "name": "stdout",
     "output_type": "stream",
     "text": [
      "2^0 = 1\n",
      "2^1 = 2\n",
      "2^2 = 4\n",
      "2^3 = 8\n",
      "2^4 = 16\n",
      "2^5 = 32\n",
      "2^6 = 64\n",
      "2^7 = 128\n",
      "2^8 = 256\n",
      "2^9 = 512\n",
      "2^10 = 1024\n",
      "2^11 = 2048\n",
      "2^12 = 4096\n",
      "2^13 = 8192\n",
      "2^14 = 16384\n",
      "Risultato maggiore di 25000\n"
     ]
    }
   ],
   "source": [
    "#Calcolare e stampare tutte le potenze di 2 minori di 25000.\n",
    "esponente = 0\n",
    "risultato = 1\n",
    "\n",
    "while esponente <= 100:\n",
    "    if risultato > 25000:  \n",
    "        print(\"Risultato maggiore di 25000\")\n",
    "        break  \n",
    "    print(f\"2^{esponente} = {risultato}\")\n",
    "    risultato *= 2\n",
    "    esponente += 1"
   ]
  },
  {
   "cell_type": "code",
   "execution_count": 38,
   "id": "0de8e18e-409b-4fd2-993f-acddfa8d058d",
   "metadata": {},
   "outputs": [],
   "source": [
    "#Abbiamo due liste, una di studenti e una di corsi, Aggiungere i dati mancanti alla lista corsi, sapendo che\n",
    "studenti = [\"Alex\", \"Bob\", \"Cindy\", \"Dan\", \"Emma\", \"Faith\", \"Grace\", \"Henry\"]\n",
    "corsi = [\"Cybersecurity\", \"Data Analyst\", \"Backend\", \"Frontend\", \"Data Analyst\", \"Backend\"]\n",
    "studenti.extend([\"Emma\", \"Faith\", \"Grace\", \"Henry\"])\n",
    "corsi.extend ([\"Data Analyst\", \"Backend\", \"Frontend\", \"Cybersecurity\"])"
   ]
  },
  {
   "cell_type": "code",
   "execution_count": 39,
   "id": "5fc3cbf3-2349-4819-babb-2fb7a772517f",
   "metadata": {},
   "outputs": [
    {
     "name": "stdout",
     "output_type": "stream",
     "text": [
      "['Alex', 'Bob', 'Cindy', 'Dan', 'Emma', 'Faith', 'Grace', 'Henry', 'Emma', 'Faith', 'Grace', 'Henry']\n"
     ]
    }
   ],
   "source": [
    "print (studenti)"
   ]
  },
  {
   "cell_type": "code",
   "execution_count": 40,
   "id": "43efb75c-2909-4b00-84a6-41225a051a43",
   "metadata": {},
   "outputs": [
    {
     "name": "stdout",
     "output_type": "stream",
     "text": [
      "['Cybersecurity', 'Data Analyst', 'Backend', 'Frontend', 'Data Analyst', 'Backend', 'Data Analyst', 'Backend', 'Frontend', 'Cybersecurity']\n"
     ]
    }
   ],
   "source": [
    "print (corsi)"
   ]
  },
  {
   "cell_type": "code",
   "execution_count": 42,
   "id": "86958314-c7d6-47b1-bb0e-5c5fc0fbe44a",
   "metadata": {},
   "outputs": [
    {
     "data": {
      "text/plain": [
       "['Frontend', 'Cybersecurity', 'Data Analyst', 'Backend']"
      ]
     },
     "execution_count": 42,
     "metadata": {},
     "output_type": "execute_result"
    }
   ],
   "source": [
    "# Rimuovi i duplicati dalla lista dei corsi\n",
    "corsi = list(set(corsi))\n",
    "corsi"
   ]
  },
  {
   "cell_type": "code",
   "execution_count": 56,
   "id": "0a85de67-10d3-4e74-a3ff-c57acc3796d3",
   "metadata": {},
   "outputs": [
    {
     "name": "stdin",
     "output_type": "stream",
     "text": [
      "Inserisci una stringa:  teres\n"
     ]
    },
    {
     "name": "stdout",
     "output_type": "stream",
     "text": [
      "ter...sere\n"
     ]
    }
   ],
   "source": [
    "#Scriviamo un programma che chiede in input all'utente una stringa e visualizza i primi 3 caratteri, \n",
    "#seguiti da 3 punti di sospensione e quindi gli ultimi 3 caratteri, similmente all'esercizio della lezione scorsa.\n",
    "#Stavolta facciamo attenzione a tutti i casi particolari, ovvero implementare soluzioni ad hoc per stringhe di lunghezza inferiore a 6 caratteri.\n",
    "\n",
    "stringa = input(\"Inserisci una stringa: \")\n",
    "\n",
    "if len(stringa) < 3:\n",
    "    print(\"La stringa inserita è troppo corta.\")\n",
    "elif len(stringa) <= 6:\n",
    "    print(stringa[:3] + \"...\" + stringa[-1:-5:-1])\n",
    "else:\n",
    "    print(\"La stringa inserita è troppo lunga.\")"
   ]
  },
  {
   "cell_type": "code",
   "execution_count": 1,
   "id": "343e438c-b45c-41e0-925b-1b2a33a41bc3",
   "metadata": {},
   "outputs": [
    {
     "name": "stdin",
     "output_type": "stream",
     "text": [
      "Inserisci un numero:  150\n"
     ]
    },
    {
     "name": "stdout",
     "output_type": "stream",
     "text": [
      "I fattori di 150 sono: [1, 2, 3, 5, 5]\n"
     ]
    }
   ],
   "source": [
    "#Memorizza e stampa tutti i fattori di un numero dato in input. input: 150 • output: [2, 3, 5, 5]\n",
    "numero = int(input(\"Inserisci un numero: \"))\n",
    "numero_inserito = numero\n",
    "fattori = [1]  \n",
    "\n",
    "for x in range(2, numero + 1):\n",
    "    while numero % x == 0:\n",
    "        fattori.append(x)\n",
    "        numero //= x\n",
    "\n",
    "print(f\"I fattori di {numero_inserito} sono: {fattori}\")"
   ]
  },
  {
   "cell_type": "code",
   "execution_count": 7,
   "id": "599614ac-67a6-4f0e-bc03-30afbf5905c2",
   "metadata": {},
   "outputs": [
    {
     "name": "stdout",
     "output_type": "stream",
     "text": [
      "E\n",
      "p\n",
      "i\n",
      "c\n",
      "o\n",
      "d\n",
      "e\n"
     ]
    }
   ],
   "source": [
    "#Stampare ogni carattere della stringa, uno su ogni riga, utilizzando un costrutto for.\n",
    "nome_scuola = \"Epicode\"\n",
    "for carattere in nome_scuola:\n",
    "    print(carattere)"
   ]
  },
  {
   "cell_type": "code",
   "execution_count": 1,
   "id": "d3ecb326-285a-4bab-b2d1-5e4fe1624bd2",
   "metadata": {},
   "outputs": [
    {
     "ename": "SyntaxError",
     "evalue": "invalid syntax. Perhaps you forgot a comma? (1903058200.py, line 2)",
     "output_type": "error",
     "traceback": [
      "\u001b[1;36m  Cell \u001b[1;32mIn[1], line 2\u001b[1;36m\u001b[0m\n\u001b[1;33m    range_numerico = int(list[])\u001b[0m\n\u001b[1;37m                         ^\u001b[0m\n\u001b[1;31mSyntaxError\u001b[0m\u001b[1;31m:\u001b[0m invalid syntax. Perhaps you forgot a comma?\n"
     ]
    }
   ],
   "source": [
    "#Calcolare e stampare tutte le prime 10 potenze di 2 utilizzando un ciclo.\n",
    "range_numerico = int(list[])  \n",
    "num = 1  \n",
    "while num <= 10: \n",
    "    range_numerico.append(num) \n",
    "    num += 1\n",
    "\n",
    "esponente = int(list.range_numerico)\n",
    "risultato = 1\n",
    "\n",
    "while esponente <= 100:\n",
    "    if risultato > 25000:\n",
    "        print(\"Risultato maggiore di 25000\")\n",
    "        break \n",
    "    print(f\"2^{esponente} = {risultato}\")\n",
    "    risultato *= 2\n",
    "    esponente += 1"
   ]
  },
  {
   "cell_type": "code",
   "execution_count": 5,
   "id": "97339615-4e81-4d37-8cf1-1e091a032b79",
   "metadata": {},
   "outputs": [
    {
     "name": "stdin",
     "output_type": "stream",
     "text": [
      "Inserisci il valore di K:  2\n"
     ]
    },
    {
     "name": "stdout",
     "output_type": "stream",
     "text": [
      "[1, 2, 4, 8, 16, 32, 64, 128, 256, 512, 1024, 2048, 4096, 8192, 16384, 32768, 65536, 131072, 262144, 524288]\n"
     ]
    }
   ],
   "source": [
    "#Calcolare (ma non stampare) le prime N potenze di K; ognuna di esse andrà memorizzata in coda a una lista. \n",
    "#Alla fine, stampare la lista risultante. \n",
    "#Proviamo con diversi valori di K, oppure facciamola inserire all'utente.\n",
    "lista = []\n",
    "k = int(input(\"Inserisci il valore di K: \"))\n",
    "N = 20\n",
    "for esponente in range(N):\n",
    "    potenza = k ** esponente\n",
    "    lista.append(potenza)\n",
    "\n",
    "print(lista)"
   ]
  },
  {
   "cell_type": "code",
   "execution_count": 9,
   "id": "d3103695-3284-4966-9b75-bb314ec5f2a5",
   "metadata": {},
   "outputs": [
    {
     "name": "stdout",
     "output_type": "stream",
     "text": [
      "La media dei guadagni è: 70.0\n"
     ]
    }
   ],
   "source": [
    "#usando un costrutto for, calcolare la media dei guadagni e stamparla a video.\n",
    "guadagni = [100, 90, 70, 40, 50, 80, 90, 120, 80, 20, 50, 50]\n",
    "somma_guadagni = 0\n",
    "for guadagno in guadagni:\n",
    "    somma_guadagni += guadagno\n",
    "media_guadagni = somma_guadagni / len(guadagni)\n",
    "\n",
    "print(\"La media dei guadagni è:\", media_guadagni)"
   ]
  },
  {
   "cell_type": "code",
   "execution_count": 12,
   "id": "e5e43771-5826-480c-a140-1091aac117a2",
   "metadata": {},
   "outputs": [
    {
     "name": "stdout",
     "output_type": "stream",
     "text": [
      "70.0\n"
     ]
    }
   ],
   "source": [
    "#prova\n",
    "guadagni = [100, 90, 70, 40, 50, 80, 90, 120, 80, 20, 50, 50]\n",
    "somma_guadadni = sum(guadagni)\n",
    "media = somma_guadagni/12\n",
    "print (media)\n"
   ]
  },
  {
   "cell_type": "code",
   "execution_count": 13,
   "id": "fdbfdeb7-bfa0-435f-a7d7-aa3e9adbef84",
   "metadata": {},
   "outputs": [
    {
     "name": "stdout",
     "output_type": "stream",
     "text": [
      "Nella parola 'Albergo' la lettera 'e' appare 1 volte.\n",
      "Nella parola 'Sedia' la lettera 'e' appare 1 volte.\n",
      "Nella parola 'Borgo' la lettera 'e' appare 0 volte.\n",
      "Nella parola 'Petalo' la lettera 'e' appare 1 volte.\n",
      "Nella parola 'Eremo' la lettera 'e' appare 2 volte.\n",
      "Nella parola 'Belvedere' la lettera 'e' appare 4 volte.\n",
      "Nella parola 'Semestre' la lettera 'e' appare 3 volte.\n",
      "Nella parola 'Esteta' la lettera 'e' appare 2 volte.\n",
      "Nella parola 'Sosta' la lettera 'e' appare 0 volte.\n",
      "Nella parola 'Orpello' la lettera 'e' appare 1 volte.\n",
      "Nella parola 'Abete' la lettera 'e' appare 2 volte.\n",
      "Nella parola 'Orologio' la lettera 'e' appare 0 volte.\n",
      "Nella parola 'Cesta' la lettera 'e' appare 1 volte.\n",
      "Nella parola 'Ermellino' la lettera 'e' appare 2 volte.\n"
     ]
    }
   ],
   "source": [
    "#stampiamo, per ogni parola, quante volte appare la lettera \"e\"; facciamo attenzione al fatto che appare sia maiuscola che minuscola.\n",
    "parole = [\"Albergo\", \"Sedia\", \"Borgo\", \"Petalo\", \"Eremo\", \"Belvedere\", \"Semestre\", \"Esteta\", \"Sosta\", \"Orpello\", \"Abete\", \"Orologio\", \"Cesta\", \"Ermellino\"]\n",
    "\n",
    "for parola in parole:\n",
    "    conteggio = 0\n",
    "    for lettera in parola:\n",
    "        if lettera.lower() == 'e':\n",
    "            conteggio += 1\n",
    "    print(f\"Nella parola '{parola}' la lettera 'e' appare {conteggio} volte.\")"
   ]
  },
  {
   "cell_type": "code",
   "execution_count": 19,
   "id": "ee810d43-123b-4b75-aab5-65378136597a",
   "metadata": {},
   "outputs": [
    {
     "name": "stdout",
     "output_type": "stream",
     "text": [
      "{'Ada': 'Punto', 'Ben': 'Multipla', 'Charlie': 'Golf', 'Debbie': '107'}\n",
      "L'auto di Debbie è una: 107\n"
     ]
    }
   ],
   "source": [
    "#Creiamo un dizionario che assegni ad ogni proprietario la sua auto, sapendo che: ... Stampiamo il dizionario per intero, e poi l'auto associata a Debbie.\n",
    "Dizionario = {\"Ada\": \"Punto\", \"Ben\": \"Multipla\", \"Charlie\": \"Golf\", \"Debbie\": \"107\"}\n",
    "print(Dizionario)\n",
    "\n",
    "auto_debbie = Dizionario[\"Debbie\"]\n",
    "print(\"L'auto di Debbie è una:\", auto_debbie)"
   ]
  },
  {
   "cell_type": "code",
   "execution_count": 20,
   "id": "c539c156-7835-4acd-becd-ce6530a63a47",
   "metadata": {},
   "outputs": [
    {
     "name": "stdout",
     "output_type": "stream",
     "text": [
      "Punto\n",
      "Golf\n",
      "107\n"
     ]
    }
   ],
   "source": [
    "#Con un ciclo, e usando il metodo .values(), stampiamo a video tutte le auto che non sono una Multipla.\n",
    "dizionario_auto = {\"Ada\": \"Punto\", \"Ben\": \"Multipla\", \"Charlie\": \"Golf\", \"Debbie\": \"107\"}\n",
    "for auto in dizionario_auto.values():\n",
    "    if auto != \"Multipla\":\n",
    "        print(auto)"
   ]
  },
  {
   "cell_type": "code",
   "execution_count": 21,
   "id": "a5049271-7cbb-4ee8-997b-57a8cd8ca388",
   "metadata": {},
   "outputs": [
    {
     "name": "stdout",
     "output_type": "stream",
     "text": [
      "{'Ada': 'Punto', 'Ben': 'Polo', 'Charlie': 'Golf', 'Debbie': '107', 'Emily': 'A1', 'Fred': 'Octavia', 'Grace': 'Yaris', 'Hugh': 'Clio'}\n"
     ]
    }
   ],
   "source": [
    "#Aggiornare il dizionario dizionario_auto con i dati contenuti in nuovi_proprietari e stamparlo. Cosa è successo a Ben?\n",
    "\n",
    "dizionario_auto = {\"Ada\": \"Punto\", \"Ben\": \"Multipla\", \"Charlie\": \"Golf\", \"Debbie\": \"107\", \"Emily\": \"A1\"} \n",
    "nuovi_proprietari = {\"Ben\": \"Polo\", \"Fred\": \"Octavia\", \"Grace\": \"Yaris\", \"Hugh\": \"Clio\"}\n",
    "\n",
    "dizionario_auto [\"Ben\"] = (\"Polo\")\n",
    "dizionario_auto [\"Fred\"] = (\"Octavia\")\n",
    "dizionario_auto [\"Grace\"] = (\"Yaris\")\n",
    "dizionario_auto [\"Hugh\"] = (\"Clio\")\n",
    "\n",
    "print (dizionario_auto)"
   ]
  },
  {
   "cell_type": "code",
   "execution_count": 27,
   "id": "94664742-0737-4913-b578-ac9f8e9dc7bf",
   "metadata": {},
   "outputs": [
    {
     "name": "stdout",
     "output_type": "stream",
     "text": [
      "Massimo: 83\n",
      "Minimo: 9\n"
     ]
    }
   ],
   "source": [
    "#Scrivere un programma che, data una lista di numeri, fornisca in output \n",
    "#il minimo e il massimo (possiamo usare o meno le funzioni built-in min() e max()).\n",
    "import random\n",
    "\n",
    "lunghezza_lista = 10\n",
    "lista_numeri = [random.randint(0, 100) for _ in range(lunghezza_lista)]\n",
    "\n",
    "massimo = max(lista_numeri)\n",
    "minimo = min(lista_numeri)\n",
    "\n",
    "print(\"Massimo:\", massimo)\n",
    "print(\"Minimo:\", minimo)"
   ]
  },
  {
   "cell_type": "code",
   "execution_count": 32,
   "id": "d6ee4b1e-c3b3-4cff-a861-ad8581ba5648",
   "metadata": {},
   "outputs": [
    {
     "name": "stdout",
     "output_type": "stream",
     "text": [
      "I tre numeri più grandi sono: [18, 19, 20]\n"
     ]
    }
   ],
   "source": [
    "#Scrivere un programma che, data una lista di numeri, fornisca in output i tre numeri più grandi; \n",
    "#gestire il caso in cui la lista sia più corta di tre, e quando uno o più dei numeri selezionati sono uguali.\n",
    "lista_numeri = list(range(1, 21))\n",
    "lista_numeri_ordinata = sorted(lista_numeri)\n",
    "tre_numeri_piu_grandi = lista_numeri_ordinata[-3:]\n",
    "print(\"I tre numeri più grandi sono:\", tre_numeri_piu_grandi)"
   ]
  },
  {
   "cell_type": "code",
   "execution_count": 7,
   "id": "11bd594f-5552-4f03-ab29-a5311c3bcca5",
   "metadata": {},
   "outputs": [
    {
     "name": "stdin",
     "output_type": "stream",
     "text": [
      "Inserisci una lista di numeri separati da spazio:  1 2 88 5 20\n",
      "Inserisci un numero K:  5\n"
     ]
    },
    {
     "name": "stdout",
     "output_type": "stream",
     "text": [
      "La media dei numeri maggiori o uguali a 5 è: 37.666666666666664\n"
     ]
    }
   ],
   "source": [
    "#Scrivere un programma che \n",
    "#• in input acquisisce una lista di numeri e un numero K \n",
    "#• in output, dovrà restituire la media di tutti i numeri nella lista maggiori o uguali a K \n",
    "#• se non ce ne dovesse essere nessuno, dovrà stampare a schermo un messaggio adeguato.\n",
    "lista_numeri = input(\"Inserisci una lista di numeri separati da spazio: \").split()\n",
    "K = int(input(\"Inserisci un numero K: \"))\n",
    "lista_numeri = [int(numero) for numero in lista_numeri]\n",
    "numeri = [numero for numero in lista_numeri if numero >= K]\n",
    "\n",
    "if numeri:\n",
    "    media = sum(numeri) / len(numeri)\n",
    "    print(f\"La media dei numeri maggiori o uguali a {K} è: {media}\")\n",
    "else:\n",
    "    print(\"Nessun numero maggiore o uguale a K è presente nella lista.\")\n"
   ]
  },
  {
   "cell_type": "code",
   "execution_count": 34,
   "id": "156eba6c-26db-477d-b3fe-973043b88d86",
   "metadata": {},
   "outputs": [
    {
     "name": "stdout",
     "output_type": "stream",
     "text": [
      "*\n",
      "**\n",
      "***\n",
      "****\n",
      "*****\n",
      "******\n",
      "*******\n",
      "********\n",
      "*********\n",
      "**********\n",
      "***********\n",
      "************\n",
      "*************\n",
      "**************\n",
      "***************\n",
      "****************\n",
      "*****************\n",
      "******************\n",
      "*******************\n",
      "********************\n"
     ]
    }
   ],
   "source": [
    "#Scrivere un programma che, data una lista di numeri, come output stamperà lo stesso numero di asterischi su righe diverse, \n",
    "#ottenendo una semplice visualizzazione grafica Esempio, supponendo di avere il seguente input: \n",
    "#numeri = [5, 2, 3, 4] L'output sarà: ***** ** *** ****\n",
    "lista_numeri = list(range(1, 21))\n",
    "lista_numeri_ordinata = sorted(lista_numeri)\n",
    "for numero in lista_numeri_ordinata:\n",
    "    print('*' * numero)"
   ]
  },
  {
   "cell_type": "code",
   "execution_count": 43,
   "id": "a36d14c7-850e-46c5-bb50-69cda9b48e1b",
   "metadata": {},
   "outputs": [
    {
     "name": "stdout",
     "output_type": "stream",
     "text": [
      "Codice Fiscale: ABCDEF95G01A123B, Nome e Cognome: ABCDEF\n",
      "Codice Fiscale: STUVWX95Z04A654E, Nome e Cognome: STUVWX\n",
      "Codice Fiscale: DEFGHI95J06A987G, Nome e Cognome: DEFGHI\n",
      "Lista dei codici fiscali che contengono '95': ['ABCDEF95G01A123B', 'STUVWX95Z04A654E', 'DEFGHI95J06A987G']\n"
     ]
    }
   ],
   "source": [
    "#trovare i codici fiscali che contengono \"95\", metterli in una lista, e alla fine stamparla;\n",
    "#inoltre, per ognuno di essi, stampare a video i caratteri relativi al nome e cognome\n",
    "\n",
    "lista_cf = [\"ABCDEF95G01A123B\", \"GHIJKL91M02A321C\", \"MNOPQR89S03A456D\", \"STUVWX95Z04A654E\", \"XYZABC01D05A789F\", \"DEFGHI95J06A987G\"]\n",
    "con_95 = []\n",
    "for codice_fiscale in lista_cf:\n",
    "    if \"95\" in codice_fiscale:\n",
    "        con_95.append(codice_fiscale)\n",
    "        nome_cognome = codice_fiscale[0:6]\n",
    "        print(f\"Codice Fiscale: {codice_fiscale}, Nome e Cognome: {nome_cognome}\")\n",
    "print(\"Lista dei codici fiscali che contengono '95':\", con_95)"
   ]
  },
  {
   "cell_type": "code",
   "execution_count": 48,
   "id": "929c908b-2cc6-4413-b76b-c0b219150e35",
   "metadata": {},
   "outputs": [
    {
     "name": "stdout",
     "output_type": "stream",
     "text": [
      "Alex ha frequentato la 1 edizione di Cybersecurity\n",
      "Faith ha frequentato la 1 edizione di Backend\n"
     ]
    }
   ],
   "source": [
    "#Stampare a video tutti e soli gli studenti che frequentano una prima edizione; non tutti i dati potrebbero essere necessari.\n",
    "studenti = [\"Alex\", \"Bob\", \"Cindy\", \"Dan\", \"Emma\", \"Faith\", \"Grace\", \"Henry\"] \n",
    "corsi = [\"Cybersecurity\", \"Data Analyst\", \"Backend\", \"Frontend\", \"Data Analyst\", \"Backend\", \"Frontend\", \"Cybersecurity\"] \n",
    "edizioni = [1, 2, 3, 2, 2, 1, 3, 3]\n",
    "\n",
    "for i in range(len(studenti)):\n",
    "    if edizioni[i] == 1:\n",
    "        print(f\"{studenti[i]} ha frequentato la {edizioni[i]} edizione di {corsi[i]}\")"
   ]
  },
  {
   "cell_type": "code",
   "execution_count": 57,
   "id": "af58a0dd-4924-49b7-8ed2-b0945eeb52e2",
   "metadata": {},
   "outputs": [
    {
     "name": "stdout",
     "output_type": "stream",
     "text": [
      "['100 $', '200 $', '500 $', '10 $', '50 $', '70 $']\n",
      "500\n",
      "10\n",
      "155.0\n"
     ]
    }
   ],
   "source": [
    "#cambiare il simbolo dell'euro (€) in quello del dollaro ($) per ogni stringa nella lista; il risultato sarà memorizzato in un'altra lista.\n",
    "prezzi = [\"100 €\", \"200 €\", \"500 €\", \"10 €\", \"50 €\", \"70 €\"]\n",
    "prezzi_in_dollari = []\n",
    "\n",
    "for prezzo in prezzi:\n",
    "    prezzo_in_dollari = prezzo.replace(\"€\", \"$\")\n",
    "    prezzi_in_dollari.append(prezzo_in_dollari)\n",
    "\n",
    "print(prezzi_in_dollari)\n",
    "\n",
    "prezzi_interi = [int(prezzo.replace(\"€\", \"\").strip()) \n",
    "                 for prezzo in prezzi]\n",
    "minimo = min(prezzi_interi)\n",
    "massimo = max(prezzi_interi)\n",
    "conteggio = len(prezzi_interi)\n",
    "somma = sum(prezzi_interi)\n",
    "media = somma/conteggio\n",
    "\n",
    "print (massimo)\n",
    "print (minimo)\n",
    "print (media)\n"
   ]
  },
  {
   "cell_type": "code",
   "execution_count": 65,
   "id": "658de1a5-0837-4741-a55b-e4d362a98816",
   "metadata": {},
   "outputs": [
    {
     "name": "stdout",
     "output_type": "stream",
     "text": [
      "['Alex', 'Cindy', 'Emma', 'Grace', 'Isabelle']\n",
      "['Bob', 'Dan', 'Faith', 'Henry', 'John']\n"
     ]
    }
   ],
   "source": [
    "#vogliamo dividere gli studenti in due squadre per un campionato di Uno nel seguente modo: \n",
    "#selezioneremo i nomi in posizione pari per un squadra, e i nomi in posizione dispari per l'altra.\n",
    "studenti = [\"Alex\", \"Bob\", \"Cindy\", \"Dan\", \"Emma\", \"Faith\", \"Grace\", \"Henry\", \"Isabelle\", \"John\"]\n",
    "\n",
    "studenti_dispari = studenti[::2]\n",
    "studenti_pari = studenti[1::2]\n",
    "\n",
    "print (studenti_dispari)\n",
    "print (studenti_pari)"
   ]
  },
  {
   "cell_type": "code",
   "execution_count": 67,
   "id": "1a410724-42d6-4aa8-a4bd-580e8329d486",
   "metadata": {},
   "outputs": [
    {
     "name": "stdout",
     "output_type": "stream",
     "text": [
      "Media guadagni fino al mese 1: 100.00\n",
      "Media guadagni fino al mese 2: 95.00\n",
      "Media guadagni fino al mese 3: 86.67\n",
      "Media guadagni fino al mese 4: 75.00\n",
      "Media guadagni fino al mese 5: 70.00\n",
      "Media guadagni fino al mese 6: 71.67\n",
      "Media guadagni fino al mese 7: 74.29\n",
      "Media guadagni fino al mese 8: 80.00\n",
      "Media guadagni fino al mese 9: 80.00\n",
      "Media guadagni fino al mese 10: 74.00\n",
      "Media guadagni fino al mese 11: 71.82\n",
      "Guadagno del mese 1: 100\n",
      "Guadagno del mese 2: 90 (rispetto alla media precedente è maggiore)\n",
      "Guadagno del mese 3: 70 (rispetto alla media precedente è minore)\n",
      "Guadagno del mese 4: 40 (rispetto alla media precedente è minore)\n",
      "Guadagno del mese 5: 50 (rispetto alla media precedente è minore)\n",
      "Guadagno del mese 6: 80 (rispetto alla media precedente è maggiore)\n",
      "Guadagno del mese 7: 90 (rispetto alla media precedente è maggiore)\n",
      "Guadagno del mese 8: 120 (rispetto alla media precedente è maggiore)\n",
      "Guadagno del mese 9: 80 (rispetto alla media precedente è maggiore)\n",
      "Guadagno del mese 10: 20 (rispetto alla media precedente è minore)\n",
      "Guadagno del mese 11: 50 (rispetto alla media precedente è minore)\n",
      "Guadagno del mese 12: 50 (rispetto alla media precedente è minore)\n"
     ]
    }
   ],
   "source": [
    "#dobbiamo confrontare, stampando tutto a video, il guadagno di ogni mese con la media dei guadagni precedenti, \n",
    "#e specificare nell'output se il guadagno attuale è maggiore o minore della media dei precedenti\n",
    "guadagni = [100, 90, 70, 40, 50, 80, 90, 120, 80, 20, 50, 50]\n",
    "media_precedente = 0\n",
    "for i in range(1, len(guadagni)):\n",
    "    media_precedente = sum(guadagni[:i]) / i\n",
    "    print(f\"Media guadagni fino al mese {i}: {media_precedente:.2f}\")\n",
    "for i in range(len(guadagni)):\n",
    "    if i == 0:\n",
    "        print(f\"Guadagno del mese {i + 1}: {guadagni[i]}\")\n",
    "    else:\n",
    "        confronto = \"maggiore\" if guadagni[i] > media_precedente else \"minore\"\n",
    "        print(f\"Guadagno del mese {i + 1}: {guadagni[i]} (rispetto alla media precedente è {confronto})\")\n"
   ]
  },
  {
   "cell_type": "code",
   "execution_count": null,
   "id": "2c55bd93-8c63-4b8f-a957-1258e813ed28",
   "metadata": {},
   "outputs": [],
   "source": []
  }
 ],
 "metadata": {
  "kernelspec": {
   "display_name": "Python 3 (ipykernel)",
   "language": "python",
   "name": "python3"
  },
  "language_info": {
   "codemirror_mode": {
    "name": "ipython",
    "version": 3
   },
   "file_extension": ".py",
   "mimetype": "text/x-python",
   "name": "python",
   "nbconvert_exporter": "python",
   "pygments_lexer": "ipython3",
   "version": "3.11.7"
  }
 },
 "nbformat": 4,
 "nbformat_minor": 5
}
